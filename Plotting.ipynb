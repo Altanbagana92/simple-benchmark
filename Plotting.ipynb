{
 "cells": [
  {
   "cell_type": "code",
   "execution_count": 3,
   "metadata": {},
   "outputs": [
    {
     "data": {
      "text/html": [
       "<script>requirejs.config({paths: { 'plotly': ['https://cdn.plot.ly/plotly-latest.min']},});if(!window.Plotly) {{require(['plotly'],function(plotly) {window.Plotly=plotly;});}}</script>"
      ],
      "text/vnd.plotly.v1+html": [
       "<script>requirejs.config({paths: { 'plotly': ['https://cdn.plot.ly/plotly-latest.min']},});if(!window.Plotly) {{require(['plotly'],function(plotly) {window.Plotly=plotly;});}}</script>"
      ]
     },
     "metadata": {},
     "output_type": "display_data"
    }
   ],
   "source": [
    "import os\n",
    "import json\n",
    "from plotly.offline import init_notebook_mode, iplot\n",
    "import plotly.graph_objs as go\n",
    "init_notebook_mode(connected=True)\n",
    "\n",
    "MEASUREMENTS = 'measurements'\n",
    "\n",
    "# Create lists for plotting\n",
    "x = []\n",
    "vm_list = []\n",
    "vm_boot = []\n",
    "for filename in os.listdir(MEASUREMENTS):\n",
    "    with open(os.path.join(MEASUREMENTS, filename), 'r') as f:\n",
    "        data = json.load(f)\n",
    "    x.append(data['time'])\n",
    "    vm_list.append(data['list_measurements'])\n",
    "    vm_boot.append(data['boot_measurements'])\n",
    "\n",
    "\n",
    "plot_list = [\n",
    "     go.Scatter(x=x, y=vm_list, name='List VMs in seconds'),\n",
    "]\n",
    "plot_boot = [\n",
    "     go.Scatter(x=x, y=vm_boot, name='Boot new VM in seconds'),\n",
    "]"
   ]
  },
  {
   "cell_type": "code",
   "execution_count": 4,
   "metadata": {},
   "outputs": [
    {
     "data": {
      "application/vnd.plotly.v1+json": {
       "data": [
        {
         "name": "List VMs in seconds",
         "type": "scatter",
         "x": [
          "2018-01-09T17:12:00",
          "2018-01-09T21:12:00",
          "2018-01-10T01:12:00",
          "2018-01-10T05:12:00",
          "2018-01-10T09:12:00"
         ],
         "y": [
          2.0430665493011473,
          2.041874885559082,
          2.0466511726379393,
          2.100715160369873,
          3.3438995361328123
         ]
        }
       ],
       "layout": {}
      },
      "text/html": [
       "<div id=\"f581736f-be86-410c-b321-3322b5e7b5db\" style=\"height: 525px; width: 100%;\" class=\"plotly-graph-div\"></div><script type=\"text/javascript\">require([\"plotly\"], function(Plotly) { window.PLOTLYENV=window.PLOTLYENV || {};window.PLOTLYENV.BASE_URL=\"https://plot.ly\";Plotly.newPlot(\"f581736f-be86-410c-b321-3322b5e7b5db\", [{\"type\": \"scatter\", \"x\": [\"2018-01-09T17:12:00\", \"2018-01-09T21:12:00\", \"2018-01-10T01:12:00\", \"2018-01-10T05:12:00\", \"2018-01-10T09:12:00\"], \"y\": [2.0430665493011473, 2.041874885559082, 2.0466511726379393, 2.100715160369873, 3.3438995361328123], \"name\": \"List VMs in seconds\"}], {}, {\"showLink\": true, \"linkText\": \"Export to plot.ly\"})});</script>"
      ],
      "text/vnd.plotly.v1+html": [
       "<div id=\"f581736f-be86-410c-b321-3322b5e7b5db\" style=\"height: 525px; width: 100%;\" class=\"plotly-graph-div\"></div><script type=\"text/javascript\">require([\"plotly\"], function(Plotly) { window.PLOTLYENV=window.PLOTLYENV || {};window.PLOTLYENV.BASE_URL=\"https://plot.ly\";Plotly.newPlot(\"f581736f-be86-410c-b321-3322b5e7b5db\", [{\"type\": \"scatter\", \"x\": [\"2018-01-09T17:12:00\", \"2018-01-09T21:12:00\", \"2018-01-10T01:12:00\", \"2018-01-10T05:12:00\", \"2018-01-10T09:12:00\"], \"y\": [2.0430665493011473, 2.041874885559082, 2.0466511726379393, 2.100715160369873, 3.3438995361328123], \"name\": \"List VMs in seconds\"}], {}, {\"showLink\": true, \"linkText\": \"Export to plot.ly\"})});</script>"
      ]
     },
     "metadata": {},
     "output_type": "display_data"
    }
   ],
   "source": [
    "iplot(plot_list)"
   ]
  },
  {
   "cell_type": "code",
   "execution_count": 5,
   "metadata": {},
   "outputs": [
    {
     "data": {
      "application/vnd.plotly.v1+json": {
       "data": [
        {
         "name": "Boot new VM in seconds",
         "type": "scatter",
         "x": [
          "2018-01-09T17:12:00",
          "2018-01-09T21:12:00",
          "2018-01-10T01:12:00",
          "2018-01-10T05:12:00",
          "2018-01-10T09:12:00"
         ],
         "y": [
          33.7040189743042,
          33.67544856071472,
          28.98484072685242,
          29.431646490097044,
          30.14975996017456
         ]
        }
       ],
       "layout": {}
      },
      "text/html": [
       "<div id=\"10db407a-09c9-4541-9a98-233ad63a5c64\" style=\"height: 525px; width: 100%;\" class=\"plotly-graph-div\"></div><script type=\"text/javascript\">require([\"plotly\"], function(Plotly) { window.PLOTLYENV=window.PLOTLYENV || {};window.PLOTLYENV.BASE_URL=\"https://plot.ly\";Plotly.newPlot(\"10db407a-09c9-4541-9a98-233ad63a5c64\", [{\"type\": \"scatter\", \"x\": [\"2018-01-09T17:12:00\", \"2018-01-09T21:12:00\", \"2018-01-10T01:12:00\", \"2018-01-10T05:12:00\", \"2018-01-10T09:12:00\"], \"y\": [33.7040189743042, 33.67544856071472, 28.98484072685242, 29.431646490097044, 30.14975996017456], \"name\": \"Boot new VM in seconds\"}], {}, {\"showLink\": true, \"linkText\": \"Export to plot.ly\"})});</script>"
      ],
      "text/vnd.plotly.v1+html": [
       "<div id=\"10db407a-09c9-4541-9a98-233ad63a5c64\" style=\"height: 525px; width: 100%;\" class=\"plotly-graph-div\"></div><script type=\"text/javascript\">require([\"plotly\"], function(Plotly) { window.PLOTLYENV=window.PLOTLYENV || {};window.PLOTLYENV.BASE_URL=\"https://plot.ly\";Plotly.newPlot(\"10db407a-09c9-4541-9a98-233ad63a5c64\", [{\"type\": \"scatter\", \"x\": [\"2018-01-09T17:12:00\", \"2018-01-09T21:12:00\", \"2018-01-10T01:12:00\", \"2018-01-10T05:12:00\", \"2018-01-10T09:12:00\"], \"y\": [33.7040189743042, 33.67544856071472, 28.98484072685242, 29.431646490097044, 30.14975996017456], \"name\": \"Boot new VM in seconds\"}], {}, {\"showLink\": true, \"linkText\": \"Export to plot.ly\"})});</script>"
      ]
     },
     "metadata": {},
     "output_type": "display_data"
    }
   ],
   "source": [
    "iplot(plot_boot)"
   ]
  },
  {
   "cell_type": "code",
   "execution_count": null,
   "metadata": {},
   "outputs": [],
   "source": []
  }
 ],
 "metadata": {
  "kernelspec": {
   "display_name": "Python 3",
   "language": "python",
   "name": "python3"
  },
  "language_info": {
   "codemirror_mode": {
    "name": "ipython",
    "version": 3
   },
   "file_extension": ".py",
   "mimetype": "text/x-python",
   "name": "python",
   "nbconvert_exporter": "python",
   "pygments_lexer": "ipython3",
   "version": "3.6.3"
  }
 },
 "nbformat": 4,
 "nbformat_minor": 2
}
