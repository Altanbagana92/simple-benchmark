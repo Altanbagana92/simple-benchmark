{
 "cells": [
  {
   "cell_type": "code",
   "execution_count": 15,
   "metadata": {},
   "outputs": [
    {
     "data": {
      "text/html": [
       "<script>requirejs.config({paths: { 'plotly': ['https://cdn.plot.ly/plotly-latest.min']},});if(!window.Plotly) {{require(['plotly'],function(plotly) {window.Plotly=plotly;});}}</script>"
      ],
      "text/vnd.plotly.v1+html": [
       "<script>requirejs.config({paths: { 'plotly': ['https://cdn.plot.ly/plotly-latest.min']},});if(!window.Plotly) {{require(['plotly'],function(plotly) {window.Plotly=plotly;});}}</script>"
      ]
     },
     "metadata": {},
     "output_type": "display_data"
    }
   ],
   "source": [
    "import os\n",
    "import json\n",
    "from plotly.offline import init_notebook_mode, iplot\n",
    "import plotly.graph_objs as go\n",
    "init_notebook_mode(connected=True)\n",
    "\n",
    "MEASUREMENTS = 'measurements'\n",
    "\n",
    "# Create lists for plotting\n",
    "x = []\n",
    "vm_list = []\n",
    "vm_boot = []\n",
    "for filename in os.listdir(MEASUREMENTS):\n",
    "    with open(os.path.join(MEASUREMENTS, filename), 'r') as f:\n",
    "        data = json.load(f)\n",
    "    x.append(data['time'])\n",
    "    vm_list.append(data['list_measurements'])\n",
    "    vm_boot.append(data['boot_measurements'])\n",
    "\n",
    "layout = go.Layout(showlegend=True)\n",
    "plot_list = go.Figure(data=[\n",
    "     go.Scatter(x=x, y=vm_list, name='List VMs in seconds'),\n",
    "], layout=layout)\n",
    "plot_boot = go.Figure(data=[\n",
    "     go.Scatter(x=x, y=vm_boot, name='Boot VM in seconds'),\n",
    "], layout=layout)"
   ]
  },
  {
   "cell_type": "code",
   "execution_count": 16,
   "metadata": {},
   "outputs": [
    {
     "data": {
      "application/vnd.plotly.v1+json": {
       "data": [
        {
         "name": "List VMs in seconds",
         "type": "scatter",
         "x": [
          "2018-01-09T17:12:00",
          "2018-01-09T21:12:00",
          "2018-01-10T01:12:00",
          "2018-01-10T05:12:00",
          "2018-01-10T09:12:00",
          "2018-01-10T13:12:00",
          "2018-01-10T17:12:00",
          "2018-01-10T21:12:00",
          "2018-01-11T01:12:00",
          "2018-01-11T05:12:00",
          "2018-01-11T09:12:00",
          "2018-01-11T13:12:00",
          "2018-01-11T17:12:00",
          "2018-01-11T21:12:00"
         ],
         "y": [
          2.0430665493011473,
          2.041874885559082,
          2.0466511726379393,
          2.100715160369873,
          3.3438995361328123,
          2.045977783203125,
          2.133139944076538,
          2.130488634109497,
          2.1073708057403566,
          2.9567054748535155,
          2.0375674247741697,
          2.104173469543457,
          2.0733973503112795,
          2.2532901763916016
         ]
        }
       ],
       "layout": {
        "showlegend": true
       }
      },
      "text/html": [
       "<div id=\"6fe5be1f-dbeb-4a45-aef8-5b5978a0794b\" style=\"height: 525px; width: 100%;\" class=\"plotly-graph-div\"></div><script type=\"text/javascript\">require([\"plotly\"], function(Plotly) { window.PLOTLYENV=window.PLOTLYENV || {};window.PLOTLYENV.BASE_URL=\"https://plot.ly\";Plotly.newPlot(\"6fe5be1f-dbeb-4a45-aef8-5b5978a0794b\", [{\"type\": \"scatter\", \"x\": [\"2018-01-09T17:12:00\", \"2018-01-09T21:12:00\", \"2018-01-10T01:12:00\", \"2018-01-10T05:12:00\", \"2018-01-10T09:12:00\", \"2018-01-10T13:12:00\", \"2018-01-10T17:12:00\", \"2018-01-10T21:12:00\", \"2018-01-11T01:12:00\", \"2018-01-11T05:12:00\", \"2018-01-11T09:12:00\", \"2018-01-11T13:12:00\", \"2018-01-11T17:12:00\", \"2018-01-11T21:12:00\"], \"y\": [2.0430665493011473, 2.041874885559082, 2.0466511726379393, 2.100715160369873, 3.3438995361328123, 2.045977783203125, 2.133139944076538, 2.130488634109497, 2.1073708057403566, 2.9567054748535155, 2.0375674247741697, 2.104173469543457, 2.0733973503112795, 2.2532901763916016], \"name\": \"List VMs in seconds\"}], {\"showlegend\": true}, {\"showLink\": true, \"linkText\": \"Export to plot.ly\"})});</script>"
      ],
      "text/vnd.plotly.v1+html": [
       "<div id=\"6fe5be1f-dbeb-4a45-aef8-5b5978a0794b\" style=\"height: 525px; width: 100%;\" class=\"plotly-graph-div\"></div><script type=\"text/javascript\">require([\"plotly\"], function(Plotly) { window.PLOTLYENV=window.PLOTLYENV || {};window.PLOTLYENV.BASE_URL=\"https://plot.ly\";Plotly.newPlot(\"6fe5be1f-dbeb-4a45-aef8-5b5978a0794b\", [{\"type\": \"scatter\", \"x\": [\"2018-01-09T17:12:00\", \"2018-01-09T21:12:00\", \"2018-01-10T01:12:00\", \"2018-01-10T05:12:00\", \"2018-01-10T09:12:00\", \"2018-01-10T13:12:00\", \"2018-01-10T17:12:00\", \"2018-01-10T21:12:00\", \"2018-01-11T01:12:00\", \"2018-01-11T05:12:00\", \"2018-01-11T09:12:00\", \"2018-01-11T13:12:00\", \"2018-01-11T17:12:00\", \"2018-01-11T21:12:00\"], \"y\": [2.0430665493011473, 2.041874885559082, 2.0466511726379393, 2.100715160369873, 3.3438995361328123, 2.045977783203125, 2.133139944076538, 2.130488634109497, 2.1073708057403566, 2.9567054748535155, 2.0375674247741697, 2.104173469543457, 2.0733973503112795, 2.2532901763916016], \"name\": \"List VMs in seconds\"}], {\"showlegend\": true}, {\"showLink\": true, \"linkText\": \"Export to plot.ly\"})});</script>"
      ]
     },
     "metadata": {},
     "output_type": "display_data"
    }
   ],
   "source": [
    "iplot(plot_list)"
   ]
  },
  {
   "cell_type": "code",
   "execution_count": 17,
   "metadata": {},
   "outputs": [
    {
     "data": {
      "application/vnd.plotly.v1+json": {
       "data": [
        {
         "name": "Boot VM in seconds",
         "type": "scatter",
         "x": [
          "2018-01-09T17:12:00",
          "2018-01-09T21:12:00",
          "2018-01-10T01:12:00",
          "2018-01-10T05:12:00",
          "2018-01-10T09:12:00",
          "2018-01-10T13:12:00",
          "2018-01-10T17:12:00",
          "2018-01-10T21:12:00",
          "2018-01-11T01:12:00",
          "2018-01-11T05:12:00",
          "2018-01-11T09:12:00",
          "2018-01-11T13:12:00",
          "2018-01-11T17:12:00",
          "2018-01-11T21:12:00"
         ],
         "y": [
          33.7040189743042,
          33.67544856071472,
          28.98484072685242,
          29.431646490097044,
          30.14975996017456,
          33.59453430175781,
          36.761852216720584,
          32.25505127906799,
          28.961791515350342,
          29.330766010284425,
          29.3420428276062,
          28.058109617233278,
          32.8072431564331,
          37.34190344810486
         ]
        }
       ],
       "layout": {
        "showlegend": true
       }
      },
      "text/html": [
       "<div id=\"c647f0e6-8a61-4b10-83fd-39913b7c8081\" style=\"height: 525px; width: 100%;\" class=\"plotly-graph-div\"></div><script type=\"text/javascript\">require([\"plotly\"], function(Plotly) { window.PLOTLYENV=window.PLOTLYENV || {};window.PLOTLYENV.BASE_URL=\"https://plot.ly\";Plotly.newPlot(\"c647f0e6-8a61-4b10-83fd-39913b7c8081\", [{\"type\": \"scatter\", \"x\": [\"2018-01-09T17:12:00\", \"2018-01-09T21:12:00\", \"2018-01-10T01:12:00\", \"2018-01-10T05:12:00\", \"2018-01-10T09:12:00\", \"2018-01-10T13:12:00\", \"2018-01-10T17:12:00\", \"2018-01-10T21:12:00\", \"2018-01-11T01:12:00\", \"2018-01-11T05:12:00\", \"2018-01-11T09:12:00\", \"2018-01-11T13:12:00\", \"2018-01-11T17:12:00\", \"2018-01-11T21:12:00\"], \"y\": [33.7040189743042, 33.67544856071472, 28.98484072685242, 29.431646490097044, 30.14975996017456, 33.59453430175781, 36.761852216720584, 32.25505127906799, 28.961791515350342, 29.330766010284425, 29.3420428276062, 28.058109617233278, 32.8072431564331, 37.34190344810486], \"name\": \"Boot VM in seconds\"}], {\"showlegend\": true}, {\"showLink\": true, \"linkText\": \"Export to plot.ly\"})});</script>"
      ],
      "text/vnd.plotly.v1+html": [
       "<div id=\"c647f0e6-8a61-4b10-83fd-39913b7c8081\" style=\"height: 525px; width: 100%;\" class=\"plotly-graph-div\"></div><script type=\"text/javascript\">require([\"plotly\"], function(Plotly) { window.PLOTLYENV=window.PLOTLYENV || {};window.PLOTLYENV.BASE_URL=\"https://plot.ly\";Plotly.newPlot(\"c647f0e6-8a61-4b10-83fd-39913b7c8081\", [{\"type\": \"scatter\", \"x\": [\"2018-01-09T17:12:00\", \"2018-01-09T21:12:00\", \"2018-01-10T01:12:00\", \"2018-01-10T05:12:00\", \"2018-01-10T09:12:00\", \"2018-01-10T13:12:00\", \"2018-01-10T17:12:00\", \"2018-01-10T21:12:00\", \"2018-01-11T01:12:00\", \"2018-01-11T05:12:00\", \"2018-01-11T09:12:00\", \"2018-01-11T13:12:00\", \"2018-01-11T17:12:00\", \"2018-01-11T21:12:00\"], \"y\": [33.7040189743042, 33.67544856071472, 28.98484072685242, 29.431646490097044, 30.14975996017456, 33.59453430175781, 36.761852216720584, 32.25505127906799, 28.961791515350342, 29.330766010284425, 29.3420428276062, 28.058109617233278, 32.8072431564331, 37.34190344810486], \"name\": \"Boot VM in seconds\"}], {\"showlegend\": true}, {\"showLink\": true, \"linkText\": \"Export to plot.ly\"})});</script>"
      ]
     },
     "metadata": {},
     "output_type": "display_data"
    }
   ],
   "source": [
    "iplot(plot_boot)"
   ]
  },
  {
   "cell_type": "code",
   "execution_count": null,
   "metadata": {},
   "outputs": [],
   "source": []
  }
 ],
 "metadata": {
  "kernelspec": {
   "display_name": "Python 3",
   "language": "python",
   "name": "python3"
  },
  "language_info": {
   "codemirror_mode": {
    "name": "ipython",
    "version": 3
   },
   "file_extension": ".py",
   "mimetype": "text/x-python",
   "name": "python",
   "nbconvert_exporter": "python",
   "pygments_lexer": "ipython3",
   "version": "3.6.3"
  }
 },
 "nbformat": 4,
 "nbformat_minor": 2
}
