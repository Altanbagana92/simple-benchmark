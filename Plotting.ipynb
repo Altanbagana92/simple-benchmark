{
 "cells": [
  {
   "cell_type": "code",
   "execution_count": 1,
   "metadata": {},
   "outputs": [
    {
     "data": {
      "text/html": [
       "<script>requirejs.config({paths: { 'plotly': ['https://cdn.plot.ly/plotly-latest.min']},});if(!window.Plotly) {{require(['plotly'],function(plotly) {window.Plotly=plotly;});}}</script>"
      ],
      "text/vnd.plotly.v1+html": [
       "<script>requirejs.config({paths: { 'plotly': ['https://cdn.plot.ly/plotly-latest.min']},});if(!window.Plotly) {{require(['plotly'],function(plotly) {window.Plotly=plotly;});}}</script>"
      ]
     },
     "metadata": {},
     "output_type": "display_data"
    }
   ],
   "source": [
    "import os\n",
    "import json\n",
    "from plotly.offline import download_plotlyjs, init_notebook_mode, plot, iplot\n",
    "import plotly.graph_objs as go\n",
    "init_notebook_mode(connected=True)\n",
    "\n",
    "AWS_BENCHMArk_PATH = 'aws'\n",
    "OPENSTACK_BENCHMARk_PATH = 'openstack'\n",
    "\n",
    "# Merge all the files to one dict\n",
    "benchmark = {}\n",
    "for vm in ['aws', 'openstack']:\n",
    "    for filename in os.listdir(vm):\n",
    "        with open(os.path.join(vm, filename), 'r') as f:\n",
    "            data = json.load(f)\n",
    "            if data['time'] not in benchmark:\n",
    "                benchmark[data['time']] = {}\n",
    "            benchmark[data['time']][vm + '_seq_read'] = data['sequential_disk_read_mbs']\n",
    "            benchmark[data['time']][vm + '_seq_write'] = data['sequential_disk_write_mbs']\n",
    "            benchmark[data['time']][vm + '_rnd_read'] = data['random_disk_read_iops']\n",
    "            benchmark[data['time']][vm + '_rnd_write'] = data['random_disk_write_iops']\n",
    "            benchmark[data['time']][vm + '_mem'] = data['memory']\n",
    "            benchmark[data['time']][vm + '_cpu'] = data['cpu_kflops']\n",
    "\n",
    "# Create lists for plotting\n",
    "x = []\n",
    "aws_seq_read = []\n",
    "aws_seq_write = []\n",
    "aws_rnd_read = []\n",
    "aws_rnd_write = []\n",
    "aws_mem = []\n",
    "aws_cpu = []\n",
    "openstack_seq_read = []\n",
    "openstack_seq_write = []\n",
    "openstack_rnd_read = []\n",
    "openstack_rnd_write = []\n",
    "openstack_mem = []\n",
    "openstack_cpu = []\n",
    "for key, value in benchmark.items():\n",
    "    x.append(key)\n",
    "    aws_seq_read.append(value['aws_seq_read'])\n",
    "    aws_seq_write.append(value['aws_seq_write'])\n",
    "    aws_rnd_read.append(value['aws_rnd_read'])\n",
    "    aws_rnd_write.append(value['aws_rnd_write'])\n",
    "    aws_mem.append(value['aws_mem'])\n",
    "    aws_cpu.append(value['aws_cpu'])\n",
    "    openstack_seq_read.append(value['openstack_seq_read'])\n",
    "    openstack_seq_write.append(value['openstack_seq_write'])\n",
    "    openstack_rnd_read.append(value['openstack_rnd_read'])\n",
    "    openstack_rnd_write.append(value['openstack_rnd_write'])\n",
    "    openstack_mem.append(value['openstack_mem'])\n",
    "    openstack_cpu.append(value['openstack_cpu'])\n",
    "\n",
    "\n",
    "seq = [\n",
    "     go.Scatter(x=x, y=aws_seq_read, name='AWS sequential read MB/s'),\n",
    "     go.Scatter(x=x, y=aws_seq_write, name='AWS sequential wirte MB/s'),\n",
    "     go.Scatter(x=x, y=openstack_seq_read, name='Openstack sequential read MB/s'),\n",
    "     go.Scatter(x=x, y=openstack_seq_write, name='Openstack sequential wirte MB/s'),\n",
    "]\n",
    "rnd = [\n",
    "     go.Scatter(x=x, y=aws_rnd_read, name='AWS random read IOPS'),\n",
    "     go.Scatter(x=x, y=aws_rnd_write, name='AWS random wirte IOPS'),\n",
    "     go.Scatter(x=x, y=openstack_rnd_read, name='Openstack random read IOPS'),\n",
    "     go.Scatter(x=x, y=openstack_rnd_write, name='Openstack random wirte IOPS'),\n",
    "]\n",
    "mem = [\n",
    "     go.Scatter(x=x, y=aws_mem, name='AWS memory'),\n",
    "     go.Scatter(x=x, y=openstack_mem, name='Openstack memory'),\n",
    "]\n",
    "cpu = [\n",
    "     go.Scatter(x=x, y=aws_cpu, name='AWS CPU KFLOPS'),\n",
    "     go.Scatter(x=x, y=openstack_cpu, name='Openstack CPU KFLOPS'),\n",
    "]"
   ]
  },
  {
   "cell_type": "code",
   "execution_count": 2,
   "metadata": {},
   "outputs": [
    {
     "data": {
      "application/vnd.plotly.v1+json": {
       "data": [
        {
         "name": "AWS sequential read MB/s",
         "type": "scatter",
         "x": [
          "2017-12-14T10:23:00",
          "2017-12-14T14:23:00",
          "2017-12-14T18:23:00",
          "2017-12-14T22:23:00",
          "2017-12-15T02:23:00",
          "2017-12-15T06:23:00",
          "2017-12-15T10:23:00"
         ],
         "y": [
          68,
          68,
          68,
          68,
          68,
          68,
          68
         ]
        },
        {
         "name": "AWS sequential wirte MB/s",
         "type": "scatter",
         "x": [
          "2017-12-14T10:23:00",
          "2017-12-14T14:23:00",
          "2017-12-14T18:23:00",
          "2017-12-14T22:23:00",
          "2017-12-15T02:23:00",
          "2017-12-15T06:23:00",
          "2017-12-15T10:23:00"
         ],
         "y": [
          67,
          67,
          67,
          67,
          67,
          67,
          67
         ]
        },
        {
         "name": "Openstack sequential read MB/s",
         "type": "scatter",
         "x": [
          "2017-12-14T10:23:00",
          "2017-12-14T14:23:00",
          "2017-12-14T18:23:00",
          "2017-12-14T22:23:00",
          "2017-12-15T02:23:00",
          "2017-12-15T06:23:00",
          "2017-12-15T10:23:00"
         ],
         "y": [
          73,
          95,
          96,
          76,
          99,
          98,
          97
         ]
        },
        {
         "name": "Openstack sequential wirte MB/s",
         "type": "scatter",
         "x": [
          "2017-12-14T10:23:00",
          "2017-12-14T14:23:00",
          "2017-12-14T18:23:00",
          "2017-12-14T22:23:00",
          "2017-12-15T02:23:00",
          "2017-12-15T06:23:00",
          "2017-12-15T10:23:00"
         ],
         "y": [
          69,
          89,
          93,
          73,
          97,
          92,
          91
         ]
        }
       ],
       "layout": {}
      },
      "text/html": [
       "<div id=\"e975e492-dcf3-4a7d-8ec0-161c712680db\" style=\"height: 525px; width: 100%;\" class=\"plotly-graph-div\"></div><script type=\"text/javascript\">require([\"plotly\"], function(Plotly) { window.PLOTLYENV=window.PLOTLYENV || {};window.PLOTLYENV.BASE_URL=\"https://plot.ly\";Plotly.newPlot(\"e975e492-dcf3-4a7d-8ec0-161c712680db\", [{\"type\": \"scatter\", \"x\": [\"2017-12-14T10:23:00\", \"2017-12-14T14:23:00\", \"2017-12-14T18:23:00\", \"2017-12-14T22:23:00\", \"2017-12-15T02:23:00\", \"2017-12-15T06:23:00\", \"2017-12-15T10:23:00\"], \"y\": [68.0, 68.0, 68.0, 68.0, 68.0, 68.0, 68.0], \"name\": \"AWS sequential read MB/s\"}, {\"type\": \"scatter\", \"x\": [\"2017-12-14T10:23:00\", \"2017-12-14T14:23:00\", \"2017-12-14T18:23:00\", \"2017-12-14T22:23:00\", \"2017-12-15T02:23:00\", \"2017-12-15T06:23:00\", \"2017-12-15T10:23:00\"], \"y\": [67.0, 67.0, 67.0, 67.0, 67.0, 67.0, 67.0], \"name\": \"AWS sequential wirte MB/s\"}, {\"type\": \"scatter\", \"x\": [\"2017-12-14T10:23:00\", \"2017-12-14T14:23:00\", \"2017-12-14T18:23:00\", \"2017-12-14T22:23:00\", \"2017-12-15T02:23:00\", \"2017-12-15T06:23:00\", \"2017-12-15T10:23:00\"], \"y\": [73.0, 95.0, 96.0, 76.0, 99.0, 98.0, 97.0], \"name\": \"Openstack sequential read MB/s\"}, {\"type\": \"scatter\", \"x\": [\"2017-12-14T10:23:00\", \"2017-12-14T14:23:00\", \"2017-12-14T18:23:00\", \"2017-12-14T22:23:00\", \"2017-12-15T02:23:00\", \"2017-12-15T06:23:00\", \"2017-12-15T10:23:00\"], \"y\": [69.0, 89.0, 93.0, 73.0, 97.0, 92.0, 91.0], \"name\": \"Openstack sequential wirte MB/s\"}], {}, {\"showLink\": true, \"linkText\": \"Export to plot.ly\"})});</script>"
      ],
      "text/vnd.plotly.v1+html": [
       "<div id=\"e975e492-dcf3-4a7d-8ec0-161c712680db\" style=\"height: 525px; width: 100%;\" class=\"plotly-graph-div\"></div><script type=\"text/javascript\">require([\"plotly\"], function(Plotly) { window.PLOTLYENV=window.PLOTLYENV || {};window.PLOTLYENV.BASE_URL=\"https://plot.ly\";Plotly.newPlot(\"e975e492-dcf3-4a7d-8ec0-161c712680db\", [{\"type\": \"scatter\", \"x\": [\"2017-12-14T10:23:00\", \"2017-12-14T14:23:00\", \"2017-12-14T18:23:00\", \"2017-12-14T22:23:00\", \"2017-12-15T02:23:00\", \"2017-12-15T06:23:00\", \"2017-12-15T10:23:00\"], \"y\": [68.0, 68.0, 68.0, 68.0, 68.0, 68.0, 68.0], \"name\": \"AWS sequential read MB/s\"}, {\"type\": \"scatter\", \"x\": [\"2017-12-14T10:23:00\", \"2017-12-14T14:23:00\", \"2017-12-14T18:23:00\", \"2017-12-14T22:23:00\", \"2017-12-15T02:23:00\", \"2017-12-15T06:23:00\", \"2017-12-15T10:23:00\"], \"y\": [67.0, 67.0, 67.0, 67.0, 67.0, 67.0, 67.0], \"name\": \"AWS sequential wirte MB/s\"}, {\"type\": \"scatter\", \"x\": [\"2017-12-14T10:23:00\", \"2017-12-14T14:23:00\", \"2017-12-14T18:23:00\", \"2017-12-14T22:23:00\", \"2017-12-15T02:23:00\", \"2017-12-15T06:23:00\", \"2017-12-15T10:23:00\"], \"y\": [73.0, 95.0, 96.0, 76.0, 99.0, 98.0, 97.0], \"name\": \"Openstack sequential read MB/s\"}, {\"type\": \"scatter\", \"x\": [\"2017-12-14T10:23:00\", \"2017-12-14T14:23:00\", \"2017-12-14T18:23:00\", \"2017-12-14T22:23:00\", \"2017-12-15T02:23:00\", \"2017-12-15T06:23:00\", \"2017-12-15T10:23:00\"], \"y\": [69.0, 89.0, 93.0, 73.0, 97.0, 92.0, 91.0], \"name\": \"Openstack sequential wirte MB/s\"}], {}, {\"showLink\": true, \"linkText\": \"Export to plot.ly\"})});</script>"
      ]
     },
     "metadata": {},
     "output_type": "display_data"
    }
   ],
   "source": [
    "iplot(seq)"
   ]
  },
  {
   "cell_type": "code",
   "execution_count": 3,
   "metadata": {},
   "outputs": [
    {
     "data": {
      "application/vnd.plotly.v1+json": {
       "data": [
        {
         "name": "AWS random read IOPS",
         "type": "scatter",
         "x": [
          "2017-12-14T10:23:00",
          "2017-12-14T14:23:00",
          "2017-12-14T18:23:00",
          "2017-12-14T22:23:00",
          "2017-12-15T02:23:00",
          "2017-12-15T06:23:00",
          "2017-12-15T10:23:00"
         ],
         "y": [
          1320,
          1328,
          1281,
          1265,
          1305,
          1265,
          1309
         ]
        },
        {
         "name": "AWS random wirte IOPS",
         "type": "scatter",
         "x": [
          "2017-12-14T10:23:00",
          "2017-12-14T14:23:00",
          "2017-12-14T18:23:00",
          "2017-12-14T22:23:00",
          "2017-12-15T02:23:00",
          "2017-12-15T06:23:00",
          "2017-12-15T10:23:00"
         ],
         "y": [
          1279,
          1287,
          1241,
          1226,
          1265,
          1226,
          1268
         ]
        },
        {
         "name": "Openstack random read IOPS",
         "type": "scatter",
         "x": [
          "2017-12-14T10:23:00",
          "2017-12-14T14:23:00",
          "2017-12-14T18:23:00",
          "2017-12-14T22:23:00",
          "2017-12-15T02:23:00",
          "2017-12-15T06:23:00",
          "2017-12-15T10:23:00"
         ],
         "y": [
          146,
          134,
          165,
          131,
          130,
          116,
          121
         ]
        },
        {
         "name": "Openstack random wirte IOPS",
         "type": "scatter",
         "x": [
          "2017-12-14T10:23:00",
          "2017-12-14T14:23:00",
          "2017-12-14T18:23:00",
          "2017-12-14T22:23:00",
          "2017-12-15T02:23:00",
          "2017-12-15T06:23:00",
          "2017-12-15T10:23:00"
         ],
         "y": [
          141,
          129,
          160,
          127,
          126,
          112,
          117
         ]
        }
       ],
       "layout": {}
      },
      "text/html": [
       "<div id=\"8d5559cd-3637-456e-8200-6b5feda2c0a8\" style=\"height: 525px; width: 100%;\" class=\"plotly-graph-div\"></div><script type=\"text/javascript\">require([\"plotly\"], function(Plotly) { window.PLOTLYENV=window.PLOTLYENV || {};window.PLOTLYENV.BASE_URL=\"https://plot.ly\";Plotly.newPlot(\"8d5559cd-3637-456e-8200-6b5feda2c0a8\", [{\"type\": \"scatter\", \"x\": [\"2017-12-14T10:23:00\", \"2017-12-14T14:23:00\", \"2017-12-14T18:23:00\", \"2017-12-14T22:23:00\", \"2017-12-15T02:23:00\", \"2017-12-15T06:23:00\", \"2017-12-15T10:23:00\"], \"y\": [1320, 1328, 1281, 1265, 1305, 1265, 1309], \"name\": \"AWS random read IOPS\"}, {\"type\": \"scatter\", \"x\": [\"2017-12-14T10:23:00\", \"2017-12-14T14:23:00\", \"2017-12-14T18:23:00\", \"2017-12-14T22:23:00\", \"2017-12-15T02:23:00\", \"2017-12-15T06:23:00\", \"2017-12-15T10:23:00\"], \"y\": [1279, 1287, 1241, 1226, 1265, 1226, 1268], \"name\": \"AWS random wirte IOPS\"}, {\"type\": \"scatter\", \"x\": [\"2017-12-14T10:23:00\", \"2017-12-14T14:23:00\", \"2017-12-14T18:23:00\", \"2017-12-14T22:23:00\", \"2017-12-15T02:23:00\", \"2017-12-15T06:23:00\", \"2017-12-15T10:23:00\"], \"y\": [146, 134, 165, 131, 130, 116, 121], \"name\": \"Openstack random read IOPS\"}, {\"type\": \"scatter\", \"x\": [\"2017-12-14T10:23:00\", \"2017-12-14T14:23:00\", \"2017-12-14T18:23:00\", \"2017-12-14T22:23:00\", \"2017-12-15T02:23:00\", \"2017-12-15T06:23:00\", \"2017-12-15T10:23:00\"], \"y\": [141, 129, 160, 127, 126, 112, 117], \"name\": \"Openstack random wirte IOPS\"}], {}, {\"showLink\": true, \"linkText\": \"Export to plot.ly\"})});</script>"
      ],
      "text/vnd.plotly.v1+html": [
       "<div id=\"8d5559cd-3637-456e-8200-6b5feda2c0a8\" style=\"height: 525px; width: 100%;\" class=\"plotly-graph-div\"></div><script type=\"text/javascript\">require([\"plotly\"], function(Plotly) { window.PLOTLYENV=window.PLOTLYENV || {};window.PLOTLYENV.BASE_URL=\"https://plot.ly\";Plotly.newPlot(\"8d5559cd-3637-456e-8200-6b5feda2c0a8\", [{\"type\": \"scatter\", \"x\": [\"2017-12-14T10:23:00\", \"2017-12-14T14:23:00\", \"2017-12-14T18:23:00\", \"2017-12-14T22:23:00\", \"2017-12-15T02:23:00\", \"2017-12-15T06:23:00\", \"2017-12-15T10:23:00\"], \"y\": [1320, 1328, 1281, 1265, 1305, 1265, 1309], \"name\": \"AWS random read IOPS\"}, {\"type\": \"scatter\", \"x\": [\"2017-12-14T10:23:00\", \"2017-12-14T14:23:00\", \"2017-12-14T18:23:00\", \"2017-12-14T22:23:00\", \"2017-12-15T02:23:00\", \"2017-12-15T06:23:00\", \"2017-12-15T10:23:00\"], \"y\": [1279, 1287, 1241, 1226, 1265, 1226, 1268], \"name\": \"AWS random wirte IOPS\"}, {\"type\": \"scatter\", \"x\": [\"2017-12-14T10:23:00\", \"2017-12-14T14:23:00\", \"2017-12-14T18:23:00\", \"2017-12-14T22:23:00\", \"2017-12-15T02:23:00\", \"2017-12-15T06:23:00\", \"2017-12-15T10:23:00\"], \"y\": [146, 134, 165, 131, 130, 116, 121], \"name\": \"Openstack random read IOPS\"}, {\"type\": \"scatter\", \"x\": [\"2017-12-14T10:23:00\", \"2017-12-14T14:23:00\", \"2017-12-14T18:23:00\", \"2017-12-14T22:23:00\", \"2017-12-15T02:23:00\", \"2017-12-15T06:23:00\", \"2017-12-15T10:23:00\"], \"y\": [141, 129, 160, 127, 126, 112, 117], \"name\": \"Openstack random wirte IOPS\"}], {}, {\"showLink\": true, \"linkText\": \"Export to plot.ly\"})});</script>"
      ]
     },
     "metadata": {},
     "output_type": "display_data"
    }
   ],
   "source": [
    "iplot(rnd)"
   ]
  },
  {
   "cell_type": "code",
   "execution_count": 4,
   "metadata": {},
   "outputs": [
    {
     "data": {
      "application/vnd.plotly.v1+json": {
       "data": [
        {
         "name": "AWS memory",
         "type": "scatter",
         "x": [
          "2017-12-14T10:23:00",
          "2017-12-14T14:23:00",
          "2017-12-14T18:23:00",
          "2017-12-14T22:23:00",
          "2017-12-15T02:23:00",
          "2017-12-15T06:23:00",
          "2017-12-15T10:23:00"
         ],
         "y": [
          3.89,
          3.572,
          3.662,
          3.602,
          4.157,
          3.844,
          4.11
         ]
        },
        {
         "name": "Openstack memory",
         "type": "scatter",
         "x": [
          "2017-12-14T10:23:00",
          "2017-12-14T14:23:00",
          "2017-12-14T18:23:00",
          "2017-12-14T22:23:00",
          "2017-12-15T02:23:00",
          "2017-12-15T06:23:00",
          "2017-12-15T10:23:00"
         ],
         "y": [
          32.256,
          25.633,
          28.686,
          24.233,
          24.645,
          24.118,
          28.714
         ]
        }
       ],
       "layout": {}
      },
      "text/html": [
       "<div id=\"b9236ced-f97a-4f1e-9c7a-2372d240623f\" style=\"height: 525px; width: 100%;\" class=\"plotly-graph-div\"></div><script type=\"text/javascript\">require([\"plotly\"], function(Plotly) { window.PLOTLYENV=window.PLOTLYENV || {};window.PLOTLYENV.BASE_URL=\"https://plot.ly\";Plotly.newPlot(\"b9236ced-f97a-4f1e-9c7a-2372d240623f\", [{\"type\": \"scatter\", \"x\": [\"2017-12-14T10:23:00\", \"2017-12-14T14:23:00\", \"2017-12-14T18:23:00\", \"2017-12-14T22:23:00\", \"2017-12-15T02:23:00\", \"2017-12-15T06:23:00\", \"2017-12-15T10:23:00\"], \"y\": [3.89, 3.572, 3.662, 3.602, 4.157, 3.844, 4.11], \"name\": \"AWS memory\"}, {\"type\": \"scatter\", \"x\": [\"2017-12-14T10:23:00\", \"2017-12-14T14:23:00\", \"2017-12-14T18:23:00\", \"2017-12-14T22:23:00\", \"2017-12-15T02:23:00\", \"2017-12-15T06:23:00\", \"2017-12-15T10:23:00\"], \"y\": [32.256, 25.633, 28.686, 24.233, 24.645, 24.118, 28.714], \"name\": \"Openstack memory\"}], {}, {\"showLink\": true, \"linkText\": \"Export to plot.ly\"})});</script>"
      ],
      "text/vnd.plotly.v1+html": [
       "<div id=\"b9236ced-f97a-4f1e-9c7a-2372d240623f\" style=\"height: 525px; width: 100%;\" class=\"plotly-graph-div\"></div><script type=\"text/javascript\">require([\"plotly\"], function(Plotly) { window.PLOTLYENV=window.PLOTLYENV || {};window.PLOTLYENV.BASE_URL=\"https://plot.ly\";Plotly.newPlot(\"b9236ced-f97a-4f1e-9c7a-2372d240623f\", [{\"type\": \"scatter\", \"x\": [\"2017-12-14T10:23:00\", \"2017-12-14T14:23:00\", \"2017-12-14T18:23:00\", \"2017-12-14T22:23:00\", \"2017-12-15T02:23:00\", \"2017-12-15T06:23:00\", \"2017-12-15T10:23:00\"], \"y\": [3.89, 3.572, 3.662, 3.602, 4.157, 3.844, 4.11], \"name\": \"AWS memory\"}, {\"type\": \"scatter\", \"x\": [\"2017-12-14T10:23:00\", \"2017-12-14T14:23:00\", \"2017-12-14T18:23:00\", \"2017-12-14T22:23:00\", \"2017-12-15T02:23:00\", \"2017-12-15T06:23:00\", \"2017-12-15T10:23:00\"], \"y\": [32.256, 25.633, 28.686, 24.233, 24.645, 24.118, 28.714], \"name\": \"Openstack memory\"}], {}, {\"showLink\": true, \"linkText\": \"Export to plot.ly\"})});</script>"
      ]
     },
     "metadata": {},
     "output_type": "display_data"
    }
   ],
   "source": [
    "iplot(mem)"
   ]
  },
  {
   "cell_type": "code",
   "execution_count": 5,
   "metadata": {},
   "outputs": [
    {
     "data": {
      "application/vnd.plotly.v1+json": {
       "data": [
        {
         "name": "AWS CPU KFLOPS",
         "type": "scatter",
         "x": [
          "2017-12-14T10:23:00",
          "2017-12-14T14:23:00",
          "2017-12-14T18:23:00",
          "2017-12-14T22:23:00",
          "2017-12-15T02:23:00",
          "2017-12-15T06:23:00",
          "2017-12-15T10:23:00"
         ],
         "y": [
          2210088.772,
          2208740.866,
          2214103.088,
          2205710.682,
          2211173.111,
          2200379.961,
          2216219.044
         ]
        },
        {
         "name": "Openstack CPU KFLOPS",
         "type": "scatter",
         "x": [
          "2017-12-14T10:23:00",
          "2017-12-14T14:23:00",
          "2017-12-14T18:23:00",
          "2017-12-14T22:23:00",
          "2017-12-15T02:23:00",
          "2017-12-15T06:23:00",
          "2017-12-15T10:23:00"
         ],
         "y": [
          1791072.993,
          1786554.567,
          1753527.045,
          1785850.348,
          1787290.153,
          1784334.379,
          1761179.334
         ]
        }
       ],
       "layout": {}
      },
      "text/html": [
       "<div id=\"8db58645-b829-436e-a0b1-19c65f1955fe\" style=\"height: 525px; width: 100%;\" class=\"plotly-graph-div\"></div><script type=\"text/javascript\">require([\"plotly\"], function(Plotly) { window.PLOTLYENV=window.PLOTLYENV || {};window.PLOTLYENV.BASE_URL=\"https://plot.ly\";Plotly.newPlot(\"8db58645-b829-436e-a0b1-19c65f1955fe\", [{\"type\": \"scatter\", \"x\": [\"2017-12-14T10:23:00\", \"2017-12-14T14:23:00\", \"2017-12-14T18:23:00\", \"2017-12-14T22:23:00\", \"2017-12-15T02:23:00\", \"2017-12-15T06:23:00\", \"2017-12-15T10:23:00\"], \"y\": [2210088.772, 2208740.866, 2214103.088, 2205710.682, 2211173.111, 2200379.961, 2216219.044], \"name\": \"AWS CPU KFLOPS\"}, {\"type\": \"scatter\", \"x\": [\"2017-12-14T10:23:00\", \"2017-12-14T14:23:00\", \"2017-12-14T18:23:00\", \"2017-12-14T22:23:00\", \"2017-12-15T02:23:00\", \"2017-12-15T06:23:00\", \"2017-12-15T10:23:00\"], \"y\": [1791072.993, 1786554.567, 1753527.045, 1785850.348, 1787290.153, 1784334.379, 1761179.334], \"name\": \"Openstack CPU KFLOPS\"}], {}, {\"showLink\": true, \"linkText\": \"Export to plot.ly\"})});</script>"
      ],
      "text/vnd.plotly.v1+html": [
       "<div id=\"8db58645-b829-436e-a0b1-19c65f1955fe\" style=\"height: 525px; width: 100%;\" class=\"plotly-graph-div\"></div><script type=\"text/javascript\">require([\"plotly\"], function(Plotly) { window.PLOTLYENV=window.PLOTLYENV || {};window.PLOTLYENV.BASE_URL=\"https://plot.ly\";Plotly.newPlot(\"8db58645-b829-436e-a0b1-19c65f1955fe\", [{\"type\": \"scatter\", \"x\": [\"2017-12-14T10:23:00\", \"2017-12-14T14:23:00\", \"2017-12-14T18:23:00\", \"2017-12-14T22:23:00\", \"2017-12-15T02:23:00\", \"2017-12-15T06:23:00\", \"2017-12-15T10:23:00\"], \"y\": [2210088.772, 2208740.866, 2214103.088, 2205710.682, 2211173.111, 2200379.961, 2216219.044], \"name\": \"AWS CPU KFLOPS\"}, {\"type\": \"scatter\", \"x\": [\"2017-12-14T10:23:00\", \"2017-12-14T14:23:00\", \"2017-12-14T18:23:00\", \"2017-12-14T22:23:00\", \"2017-12-15T02:23:00\", \"2017-12-15T06:23:00\", \"2017-12-15T10:23:00\"], \"y\": [1791072.993, 1786554.567, 1753527.045, 1785850.348, 1787290.153, 1784334.379, 1761179.334], \"name\": \"Openstack CPU KFLOPS\"}], {}, {\"showLink\": true, \"linkText\": \"Export to plot.ly\"})});</script>"
      ]
     },
     "metadata": {},
     "output_type": "display_data"
    }
   ],
   "source": [
    "iplot(cpu)"
   ]
  },
  {
   "cell_type": "code",
   "execution_count": null,
   "metadata": {},
   "outputs": [],
   "source": []
  }
 ],
 "metadata": {
  "kernelspec": {
   "display_name": "Python 3",
   "language": "python",
   "name": "python3"
  },
  "language_info": {
   "codemirror_mode": {
    "name": "ipython",
    "version": 3
   },
   "file_extension": ".py",
   "mimetype": "text/x-python",
   "name": "python",
   "nbconvert_exporter": "python",
   "pygments_lexer": "ipython3",
   "version": "3.6.3"
  }
 },
 "nbformat": 4,
 "nbformat_minor": 2
}
