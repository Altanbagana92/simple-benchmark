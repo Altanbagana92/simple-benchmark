{
 "cells": [
  {
   "cell_type": "code",
   "execution_count": 1,
   "metadata": {},
   "outputs": [
    {
     "ename": "ModuleNotFoundError",
     "evalue": "No module named 'plotly'",
     "output_type": "error",
     "traceback": [
      "\u001b[1;31m---------------------------------------------------------------------------\u001b[0m",
      "\u001b[1;31mModuleNotFoundError\u001b[0m                       Traceback (most recent call last)",
      "\u001b[1;32m<ipython-input-1-4b9ef64323dc>\u001b[0m in \u001b[0;36m<module>\u001b[1;34m()\u001b[0m\n\u001b[0;32m      1\u001b[0m \u001b[1;32mimport\u001b[0m \u001b[0mos\u001b[0m\u001b[1;33m\u001b[0m\u001b[0m\n\u001b[0;32m      2\u001b[0m \u001b[1;32mimport\u001b[0m \u001b[0mjson\u001b[0m\u001b[1;33m\u001b[0m\u001b[0m\n\u001b[1;32m----> 3\u001b[1;33m \u001b[1;32mfrom\u001b[0m \u001b[0mplotly\u001b[0m\u001b[1;33m.\u001b[0m\u001b[0moffline\u001b[0m \u001b[1;32mimport\u001b[0m \u001b[0mdownload_plotlyjs\u001b[0m\u001b[1;33m,\u001b[0m \u001b[0minit_notebook_mode\u001b[0m\u001b[1;33m,\u001b[0m \u001b[0mplot\u001b[0m\u001b[1;33m,\u001b[0m \u001b[0miplot\u001b[0m\u001b[1;33m\u001b[0m\u001b[0m\n\u001b[0m\u001b[0;32m      4\u001b[0m \u001b[1;32mimport\u001b[0m \u001b[0mplotly\u001b[0m\u001b[1;33m.\u001b[0m\u001b[0mgraph_objs\u001b[0m \u001b[1;32mas\u001b[0m \u001b[0mgo\u001b[0m\u001b[1;33m\u001b[0m\u001b[0m\n\u001b[0;32m      5\u001b[0m \u001b[0minit_notebook_mode\u001b[0m\u001b[1;33m(\u001b[0m\u001b[0mconnected\u001b[0m\u001b[1;33m=\u001b[0m\u001b[1;32mTrue\u001b[0m\u001b[1;33m)\u001b[0m\u001b[1;33m\u001b[0m\u001b[0m\n",
      "\u001b[1;31mModuleNotFoundError\u001b[0m: No module named 'plotly'"
     ]
    }
   ],
   "source": [
    "import os\n",
    "import json\n",
    "from plotly.offline import download_plotlyjs, init_notebook_mode, plot, iplot\n",
    "import plotly.graph_objs as go\n",
    "init_notebook_mode(connected=True)\n",
    "\n",
    "AWS_BENCHMArk_PATH = 'aws'\n",
    "OPENSTACK_BENCHMARk_PATH = 'openstack'\n",
    "\n",
    "# Merge all the files to one dict\n",
    "benchmark = {}\n",
    "for vm in ['aws', 'openstack']:\n",
    "    for filename in os.listdir(vm):\n",
    "        with open(filename, 'r') as f:\n",
    "            data = json.load(f)\n",
    "            benchmark[data['time']][vm + '_seq_read'] = data['sequential_disk_read_mbs']\n",
    "            benchmark[data['time']][vm + '_seq_write'] = data['sequential_disk_write_mbs']\n",
    "            benchmark[data['time']][vm + '_rnd_read'] = data['random_disk_read_iops']\n",
    "            benchmark[data['time']][vm + '_rnd_write'] = data['random_disk_write_iops']\n",
    "            benchmark[data['time']][vm + '_mem'] = data['memory']\n",
    "            benchmark[data['time']][vm + '_cpu'] = data['cpu_kflops']\n",
    "\n",
    "# Create lists for plotting\n",
    "x = []\n",
    "aws_seq_read = []\n",
    "aws_seq_write = []\n",
    "aws_rnd_read = []\n",
    "aws_rnd_write = []\n",
    "aws_mem = []\n",
    "aws_cpu = []\n",
    "openstack_seq_read = []\n",
    "openstack_seq_write = []\n",
    "openstack_rnd_read = []\n",
    "openstack_rnd_write = []\n",
    "openstack_mem = []\n",
    "openstack_cpu = []\n",
    "for key, value in benchmark.items():\n",
    "    x.append(key)\n",
    "    aws_seq_read.append(value['aws_seq_read'])\n",
    "    aws_seq_write.append(value['aws_seq_write'])\n",
    "    aws_rnd_read.append(value['aws_rnd_read'])\n",
    "    aws_rnd_write.append(value['aws_rnd_write'])\n",
    "    aws_mem.append(value['aws_mem'])\n",
    "    aws_cpu.append(value['aws_cpu'])\n",
    "    openstack_seq_read.append(value['openstack_seq_read'])\n",
    "    openstack_seq_write.append(value['openstack_seq_write'])\n",
    "    openstack_rnd_read.append(value['openstack_rnd_read'])\n",
    "    openstack_rnd_write.append(value['openstack_rnd_write'])\n",
    "    openstack_mem.append(value['openstack_mem'])\n",
    "    openstack_cpu.append(value['openstack_cpu'])\n",
    "\n",
    "\n",
    "seq = [\n",
    "     go.Bar(x=x, y=aws_seq_read, name='AWS sequential read MB/s'),  # , marker=dict(color=color)\n",
    "     go.Bar(x=x, y=aws_seq_write, name='AWS sequential wirte MB/s'),\n",
    "     go.Bar(x=x, y=openstack_seq_read, name='Openstack sequential read MB/s'),\n",
    "     go.Bar(x=x, y=openstack_seq_write, name='Openstack sequential wirte MB/s'),\n",
    "]\n",
    "rnd = [\n",
    "     go.Bar(x=x, y=aws_rnd_read, name='AWS random read IOPS'),\n",
    "     go.Bar(x=x, y=aws_rnd_write, name='AWS random wirte IOPS'),\n",
    "     go.Bar(x=x, y=openstack_rnd_read, name='Openstack random read IOPS'),\n",
    "     go.Bar(x=x, y=openstack_rnd_write, name='Openstack random wirte IOPS'),\n",
    "]\n",
    "mem = [\n",
    "     go.Bar(x=x, y=aws_mem, name='AWS memory'),\n",
    "     go.Bar(x=x, y=openstack_mem, name='Openstack memory'),\n",
    "]\n",
    "cpu = [\n",
    "     go.Bar(x=x, y=aws_cpu, name='AWS CPU KFLOPS'),\n",
    "     go.Bar(x=x, y=openstack_cpu, name='Openstack CPU KFLOPS'),\n",
    "]"
   ]
  },
  {
   "cell_type": "code",
   "execution_count": null,
   "metadata": {},
   "outputs": [],
   "source": [
    "iplot(seq)"
   ]
  }
 ],
 "metadata": {
  "kernelspec": {
   "display_name": "Python 3",
   "language": "python",
   "name": "python3"
  },
  "language_info": {
   "codemirror_mode": {
    "name": "ipython",
    "version": 3
   },
   "file_extension": ".py",
   "mimetype": "text/x-python",
   "name": "python",
   "nbconvert_exporter": "python",
   "pygments_lexer": "ipython3",
   "version": "3.6.3"
  }
 },
 "nbformat": 4,
 "nbformat_minor": 2
}
