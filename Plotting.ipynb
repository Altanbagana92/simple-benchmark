{
 "cells": [
  {
   "cell_type": "code",
   "execution_count": 14,
   "metadata": {},
   "outputs": [
    {
     "data": {
      "text/html": [
       "<script>requirejs.config({paths: { 'plotly': ['https://cdn.plot.ly/plotly-latest.min']},});if(!window.Plotly) {{require(['plotly'],function(plotly) {window.Plotly=plotly;});}}</script>"
      ],
      "text/vnd.plotly.v1+html": [
       "<script>requirejs.config({paths: { 'plotly': ['https://cdn.plot.ly/plotly-latest.min']},});if(!window.Plotly) {{require(['plotly'],function(plotly) {window.Plotly=plotly;});}}</script>"
      ]
     },
     "metadata": {},
     "output_type": "display_data"
    }
   ],
   "source": [
    "import os\n",
    "import json\n",
    "from plotly.offline import download_plotlyjs, init_notebook_mode, plot, iplot\n",
    "import plotly.graph_objs as go\n",
    "init_notebook_mode(connected=True)\n",
    "\n",
    "AWS_BENCHMArk_PATH = 'aws'\n",
    "OPENSTACK_BENCHMARk_PATH = 'openstack'\n",
    "\n",
    "# Merge all the files to one dict\n",
    "benchmark = {}\n",
    "for vm in ['aws', 'openstack']:\n",
    "    for filename in os.listdir(vm):\n",
    "        with open(os.path.join(vm, filename), 'r') as f:\n",
    "            data = json.load(f)\n",
    "            if data['time'] not in benchmark:\n",
    "                benchmark[data['time']] = {}\n",
    "            benchmark[data['time']][vm + '_seq_read'] = data['sequential_disk_read_mbs']\n",
    "            benchmark[data['time']][vm + '_seq_write'] = data['sequential_disk_write_mbs']\n",
    "            benchmark[data['time']][vm + '_rnd_read'] = data['random_disk_read_iops']\n",
    "            benchmark[data['time']][vm + '_rnd_write'] = data['random_disk_write_iops']\n",
    "            benchmark[data['time']][vm + '_mem'] = data['memory']\n",
    "            benchmark[data['time']][vm + '_cpu'] = data['cpu_kflops']\n",
    "\n",
    "# Create lists for plotting\n",
    "x = []\n",
    "aws_seq_read = []\n",
    "aws_seq_write = []\n",
    "aws_rnd_read = []\n",
    "aws_rnd_write = []\n",
    "aws_mem = []\n",
    "aws_cpu = []\n",
    "openstack_seq_read = []\n",
    "openstack_seq_write = []\n",
    "openstack_rnd_read = []\n",
    "openstack_rnd_write = []\n",
    "openstack_mem = []\n",
    "openstack_cpu = []\n",
    "for key, value in benchmark.items():\n",
    "    x.append(key)\n",
    "    aws_seq_read.append(value['aws_seq_read'])\n",
    "    aws_seq_write.append(value['aws_seq_write'])\n",
    "    aws_rnd_read.append(value['aws_rnd_read'])\n",
    "    aws_rnd_write.append(value['aws_rnd_write'])\n",
    "    aws_mem.append(value['aws_mem'])\n",
    "    aws_cpu.append(value['aws_cpu'])\n",
    "    openstack_seq_read.append(value['openstack_seq_read'])\n",
    "    openstack_seq_write.append(value['openstack_seq_write'])\n",
    "    openstack_rnd_read.append(value['openstack_rnd_read'])\n",
    "    openstack_rnd_write.append(value['openstack_rnd_write'])\n",
    "    openstack_mem.append(value['openstack_mem'])\n",
    "    openstack_cpu.append(value['openstack_cpu'])\n",
    "\n",
    "\n",
    "seq = [\n",
    "     go.Scatter(x=x, y=aws_seq_read, name='AWS sequential read MB/s'),\n",
    "     go.Scatter(x=x, y=aws_seq_write, name='AWS sequential wirte MB/s'),\n",
    "     go.Scatter(x=x, y=openstack_seq_read, name='Openstack sequential read MB/s'),\n",
    "     go.Scatter(x=x, y=openstack_seq_write, name='Openstack sequential wirte MB/s'),\n",
    "]\n",
    "rnd = [\n",
    "     go.Scatter(x=x, y=aws_rnd_read, name='AWS random read IOPS'),\n",
    "     go.Scatter(x=x, y=aws_rnd_write, name='AWS random wirte IOPS'),\n",
    "     go.Scatter(x=x, y=openstack_rnd_read, name='Openstack random read IOPS'),\n",
    "     go.Scatter(x=x, y=openstack_rnd_write, name='Openstack random wirte IOPS'),\n",
    "]\n",
    "mem = [\n",
    "     go.Scatter(x=x, y=aws_mem, name='AWS memory'),\n",
    "     go.Scatter(x=x, y=openstack_mem, name='Openstack memory'),\n",
    "]\n",
    "cpu = [\n",
    "     go.Scatter(x=x, y=aws_cpu, name='AWS CPU KFLOPS'),\n",
    "     go.Scatter(x=x, y=openstack_cpu, name='Openstack CPU KFLOPS'),\n",
    "]"
   ]
  },
  {
   "cell_type": "code",
   "execution_count": 15,
   "metadata": {},
   "outputs": [
    {
     "data": {
      "application/vnd.plotly.v1+json": {
       "data": [
        {
         "name": "AWS sequential read MB/s",
         "type": "scatter",
         "x": [
          "2017-12-13T12:00:00",
          "2017-12-13T16:00:00"
         ],
         "y": [
          123,
          128
         ]
        },
        {
         "name": "AWS sequential wirte MB/s",
         "type": "scatter",
         "x": [
          "2017-12-13T12:00:00",
          "2017-12-13T16:00:00"
         ],
         "y": [
          121,
          124
         ]
        },
        {
         "name": "Openstack sequential read MB/s",
         "type": "scatter",
         "x": [
          "2017-12-13T12:00:00",
          "2017-12-13T16:00:00"
         ],
         "y": [
          93,
          88
         ]
        },
        {
         "name": "Openstack sequential wirte MB/s",
         "type": "scatter",
         "x": [
          "2017-12-13T12:00:00",
          "2017-12-13T16:00:00"
         ],
         "y": [
          91,
          84
         ]
        }
       ],
       "layout": {}
      },
      "text/html": [
       "<div id=\"f997ea62-e76b-4b1b-b67f-bd982cfa2c24\" style=\"height: 525px; width: 100%;\" class=\"plotly-graph-div\"></div><script type=\"text/javascript\">require([\"plotly\"], function(Plotly) { window.PLOTLYENV=window.PLOTLYENV || {};window.PLOTLYENV.BASE_URL=\"https://plot.ly\";Plotly.newPlot(\"f997ea62-e76b-4b1b-b67f-bd982cfa2c24\", [{\"type\": \"scatter\", \"x\": [\"2017-12-13T12:00:00\", \"2017-12-13T16:00:00\"], \"y\": [123, 128], \"name\": \"AWS sequential read MB/s\"}, {\"type\": \"scatter\", \"x\": [\"2017-12-13T12:00:00\", \"2017-12-13T16:00:00\"], \"y\": [121, 124], \"name\": \"AWS sequential wirte MB/s\"}, {\"type\": \"scatter\", \"x\": [\"2017-12-13T12:00:00\", \"2017-12-13T16:00:00\"], \"y\": [93, 88], \"name\": \"Openstack sequential read MB/s\"}, {\"type\": \"scatter\", \"x\": [\"2017-12-13T12:00:00\", \"2017-12-13T16:00:00\"], \"y\": [91, 84], \"name\": \"Openstack sequential wirte MB/s\"}], {}, {\"showLink\": true, \"linkText\": \"Export to plot.ly\"})});</script>"
      ],
      "text/vnd.plotly.v1+html": [
       "<div id=\"f997ea62-e76b-4b1b-b67f-bd982cfa2c24\" style=\"height: 525px; width: 100%;\" class=\"plotly-graph-div\"></div><script type=\"text/javascript\">require([\"plotly\"], function(Plotly) { window.PLOTLYENV=window.PLOTLYENV || {};window.PLOTLYENV.BASE_URL=\"https://plot.ly\";Plotly.newPlot(\"f997ea62-e76b-4b1b-b67f-bd982cfa2c24\", [{\"type\": \"scatter\", \"x\": [\"2017-12-13T12:00:00\", \"2017-12-13T16:00:00\"], \"y\": [123, 128], \"name\": \"AWS sequential read MB/s\"}, {\"type\": \"scatter\", \"x\": [\"2017-12-13T12:00:00\", \"2017-12-13T16:00:00\"], \"y\": [121, 124], \"name\": \"AWS sequential wirte MB/s\"}, {\"type\": \"scatter\", \"x\": [\"2017-12-13T12:00:00\", \"2017-12-13T16:00:00\"], \"y\": [93, 88], \"name\": \"Openstack sequential read MB/s\"}, {\"type\": \"scatter\", \"x\": [\"2017-12-13T12:00:00\", \"2017-12-13T16:00:00\"], \"y\": [91, 84], \"name\": \"Openstack sequential wirte MB/s\"}], {}, {\"showLink\": true, \"linkText\": \"Export to plot.ly\"})});</script>"
      ]
     },
     "metadata": {},
     "output_type": "display_data"
    }
   ],
   "source": [
    "iplot(seq)"
   ]
  },
  {
   "cell_type": "code",
   "execution_count": 16,
   "metadata": {},
   "outputs": [
    {
     "data": {
      "application/vnd.plotly.v1+json": {
       "data": [
        {
         "name": "AWS random read IOPS",
         "type": "scatter",
         "x": [
          "2017-12-13T12:00:00",
          "2017-12-13T16:00:00"
         ],
         "y": [
          1300,
          1350
         ]
        },
        {
         "name": "AWS random wirte IOPS",
         "type": "scatter",
         "x": [
          "2017-12-13T12:00:00",
          "2017-12-13T16:00:00"
         ],
         "y": [
          1200,
          1120
         ]
        },
        {
         "name": "Openstack random read IOPS",
         "type": "scatter",
         "x": [
          "2017-12-13T12:00:00",
          "2017-12-13T16:00:00"
         ],
         "y": [
          1100,
          1050
         ]
        },
        {
         "name": "Openstack random wirte IOPS",
         "type": "scatter",
         "x": [
          "2017-12-13T12:00:00",
          "2017-12-13T16:00:00"
         ],
         "y": [
          970,
          890
         ]
        }
       ],
       "layout": {}
      },
      "text/html": [
       "<div id=\"51e02901-22be-4cee-8316-9c34cf448026\" style=\"height: 525px; width: 100%;\" class=\"plotly-graph-div\"></div><script type=\"text/javascript\">require([\"plotly\"], function(Plotly) { window.PLOTLYENV=window.PLOTLYENV || {};window.PLOTLYENV.BASE_URL=\"https://plot.ly\";Plotly.newPlot(\"51e02901-22be-4cee-8316-9c34cf448026\", [{\"type\": \"scatter\", \"x\": [\"2017-12-13T12:00:00\", \"2017-12-13T16:00:00\"], \"y\": [1300, 1350], \"name\": \"AWS random read IOPS\"}, {\"type\": \"scatter\", \"x\": [\"2017-12-13T12:00:00\", \"2017-12-13T16:00:00\"], \"y\": [1200, 1120], \"name\": \"AWS random wirte IOPS\"}, {\"type\": \"scatter\", \"x\": [\"2017-12-13T12:00:00\", \"2017-12-13T16:00:00\"], \"y\": [1100, 1050], \"name\": \"Openstack random read IOPS\"}, {\"type\": \"scatter\", \"x\": [\"2017-12-13T12:00:00\", \"2017-12-13T16:00:00\"], \"y\": [970, 890], \"name\": \"Openstack random wirte IOPS\"}], {}, {\"showLink\": true, \"linkText\": \"Export to plot.ly\"})});</script>"
      ],
      "text/vnd.plotly.v1+html": [
       "<div id=\"51e02901-22be-4cee-8316-9c34cf448026\" style=\"height: 525px; width: 100%;\" class=\"plotly-graph-div\"></div><script type=\"text/javascript\">require([\"plotly\"], function(Plotly) { window.PLOTLYENV=window.PLOTLYENV || {};window.PLOTLYENV.BASE_URL=\"https://plot.ly\";Plotly.newPlot(\"51e02901-22be-4cee-8316-9c34cf448026\", [{\"type\": \"scatter\", \"x\": [\"2017-12-13T12:00:00\", \"2017-12-13T16:00:00\"], \"y\": [1300, 1350], \"name\": \"AWS random read IOPS\"}, {\"type\": \"scatter\", \"x\": [\"2017-12-13T12:00:00\", \"2017-12-13T16:00:00\"], \"y\": [1200, 1120], \"name\": \"AWS random wirte IOPS\"}, {\"type\": \"scatter\", \"x\": [\"2017-12-13T12:00:00\", \"2017-12-13T16:00:00\"], \"y\": [1100, 1050], \"name\": \"Openstack random read IOPS\"}, {\"type\": \"scatter\", \"x\": [\"2017-12-13T12:00:00\", \"2017-12-13T16:00:00\"], \"y\": [970, 890], \"name\": \"Openstack random wirte IOPS\"}], {}, {\"showLink\": true, \"linkText\": \"Export to plot.ly\"})});</script>"
      ]
     },
     "metadata": {},
     "output_type": "display_data"
    }
   ],
   "source": [
    "iplot(rnd)"
   ]
  },
  {
   "cell_type": "code",
   "execution_count": 17,
   "metadata": {},
   "outputs": [
    {
     "data": {
      "application/vnd.plotly.v1+json": {
       "data": [
        {
         "name": "AWS memory",
         "type": "scatter",
         "x": [
          "2017-12-13T12:00:00",
          "2017-12-13T16:00:00"
         ],
         "y": [
          82347,
          89347
         ]
        },
        {
         "name": "Openstack memory",
         "type": "scatter",
         "x": [
          "2017-12-13T12:00:00",
          "2017-12-13T16:00:00"
         ],
         "y": [
          42347,
          80300
         ]
        }
       ],
       "layout": {}
      },
      "text/html": [
       "<div id=\"67fa8711-ebd1-457b-b831-ff4378426140\" style=\"height: 525px; width: 100%;\" class=\"plotly-graph-div\"></div><script type=\"text/javascript\">require([\"plotly\"], function(Plotly) { window.PLOTLYENV=window.PLOTLYENV || {};window.PLOTLYENV.BASE_URL=\"https://plot.ly\";Plotly.newPlot(\"67fa8711-ebd1-457b-b831-ff4378426140\", [{\"type\": \"scatter\", \"x\": [\"2017-12-13T12:00:00\", \"2017-12-13T16:00:00\"], \"y\": [82347, 89347], \"name\": \"AWS memory\"}, {\"type\": \"scatter\", \"x\": [\"2017-12-13T12:00:00\", \"2017-12-13T16:00:00\"], \"y\": [42347, 80300], \"name\": \"Openstack memory\"}], {}, {\"showLink\": true, \"linkText\": \"Export to plot.ly\"})});</script>"
      ],
      "text/vnd.plotly.v1+html": [
       "<div id=\"67fa8711-ebd1-457b-b831-ff4378426140\" style=\"height: 525px; width: 100%;\" class=\"plotly-graph-div\"></div><script type=\"text/javascript\">require([\"plotly\"], function(Plotly) { window.PLOTLYENV=window.PLOTLYENV || {};window.PLOTLYENV.BASE_URL=\"https://plot.ly\";Plotly.newPlot(\"67fa8711-ebd1-457b-b831-ff4378426140\", [{\"type\": \"scatter\", \"x\": [\"2017-12-13T12:00:00\", \"2017-12-13T16:00:00\"], \"y\": [82347, 89347], \"name\": \"AWS memory\"}, {\"type\": \"scatter\", \"x\": [\"2017-12-13T12:00:00\", \"2017-12-13T16:00:00\"], \"y\": [42347, 80300], \"name\": \"Openstack memory\"}], {}, {\"showLink\": true, \"linkText\": \"Export to plot.ly\"})});</script>"
      ]
     },
     "metadata": {},
     "output_type": "display_data"
    }
   ],
   "source": [
    "iplot(mem)"
   ]
  },
  {
   "cell_type": "code",
   "execution_count": 18,
   "metadata": {},
   "outputs": [
    {
     "data": {
      "application/vnd.plotly.v1+json": {
       "data": [
        {
         "name": "AWS CPU KFLOPS",
         "type": "scatter",
         "x": [
          "2017-12-13T12:00:00",
          "2017-12-13T16:00:00"
         ],
         "y": [
          123456,
          133456
         ]
        },
        {
         "name": "Openstack CPU KFLOPS",
         "type": "scatter",
         "x": [
          "2017-12-13T12:00:00",
          "2017-12-13T16:00:00"
         ],
         "y": [
          103456,
          112456
         ]
        }
       ],
       "layout": {}
      },
      "text/html": [
       "<div id=\"782e750b-3bb8-43fb-8ad7-85f74c426afb\" style=\"height: 525px; width: 100%;\" class=\"plotly-graph-div\"></div><script type=\"text/javascript\">require([\"plotly\"], function(Plotly) { window.PLOTLYENV=window.PLOTLYENV || {};window.PLOTLYENV.BASE_URL=\"https://plot.ly\";Plotly.newPlot(\"782e750b-3bb8-43fb-8ad7-85f74c426afb\", [{\"type\": \"scatter\", \"x\": [\"2017-12-13T12:00:00\", \"2017-12-13T16:00:00\"], \"y\": [123456, 133456], \"name\": \"AWS CPU KFLOPS\"}, {\"type\": \"scatter\", \"x\": [\"2017-12-13T12:00:00\", \"2017-12-13T16:00:00\"], \"y\": [103456, 112456], \"name\": \"Openstack CPU KFLOPS\"}], {}, {\"showLink\": true, \"linkText\": \"Export to plot.ly\"})});</script>"
      ],
      "text/vnd.plotly.v1+html": [
       "<div id=\"782e750b-3bb8-43fb-8ad7-85f74c426afb\" style=\"height: 525px; width: 100%;\" class=\"plotly-graph-div\"></div><script type=\"text/javascript\">require([\"plotly\"], function(Plotly) { window.PLOTLYENV=window.PLOTLYENV || {};window.PLOTLYENV.BASE_URL=\"https://plot.ly\";Plotly.newPlot(\"782e750b-3bb8-43fb-8ad7-85f74c426afb\", [{\"type\": \"scatter\", \"x\": [\"2017-12-13T12:00:00\", \"2017-12-13T16:00:00\"], \"y\": [123456, 133456], \"name\": \"AWS CPU KFLOPS\"}, {\"type\": \"scatter\", \"x\": [\"2017-12-13T12:00:00\", \"2017-12-13T16:00:00\"], \"y\": [103456, 112456], \"name\": \"Openstack CPU KFLOPS\"}], {}, {\"showLink\": true, \"linkText\": \"Export to plot.ly\"})});</script>"
      ]
     },
     "metadata": {},
     "output_type": "display_data"
    }
   ],
   "source": [
    "iplot(cpu)"
   ]
  }
 ],
 "metadata": {
  "kernelspec": {
   "display_name": "Python 3",
   "language": "python",
   "name": "python3"
  },
  "language_info": {
   "codemirror_mode": {
    "name": "ipython",
    "version": 3
   },
   "file_extension": ".py",
   "mimetype": "text/x-python",
   "name": "python",
   "nbconvert_exporter": "python",
   "pygments_lexer": "ipython3",
   "version": "3.6.3"
  }
 },
 "nbformat": 4,
 "nbformat_minor": 2
}
